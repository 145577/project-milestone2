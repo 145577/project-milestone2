{
  "nbformat": 4,
  "nbformat_minor": 0,
  "metadata": {
    "colab": {
      "provenance": [],
      "toc_visible": true
    },
    "kernelspec": {
      "name": "python3",
      "display_name": "Python 3"
    },
    "language_info": {
      "name": "python"
    }
  },
  "cells": [
    {
      "cell_type": "code",
      "execution_count": null,
      "metadata": {
        "id": "Ix34U_qM9lD5"
      },
      "outputs": [],
      "source": [
        "from tensorflow.keras.preprocessing import image"
      ]
    },
    {
      "cell_type": "code",
      "source": [
        "img=image.load_img('/content/10002.jpg',target_size=(224,224))"
      ],
      "metadata": {
        "id": "ZUHynfoA-KWx"
      },
      "execution_count": null,
      "outputs": []
    },
    {
      "cell_type": "code",
      "source": [
        "img_array=image.img_to_array(img)\n",
        "img_array"
      ],
      "metadata": {
        "colab": {
          "base_uri": "https://localhost:8080/"
        },
        "id": "BjlWBO3F-Wzh",
        "outputId": "6b4ee6d6-74ac-4490-fd0e-fedbbfadd70d"
      },
      "execution_count": null,
      "outputs": [
        {
          "output_type": "execute_result",
          "data": {
            "text/plain": [
              "array([[[255., 255., 255.],\n",
              "        [255., 255., 255.],\n",
              "        [255., 255., 255.],\n",
              "        ...,\n",
              "        [255., 255., 255.],\n",
              "        [255., 255., 255.],\n",
              "        [255., 255., 255.]],\n",
              "\n",
              "       [[255., 255., 255.],\n",
              "        [255., 255., 255.],\n",
              "        [255., 255., 255.],\n",
              "        ...,\n",
              "        [255., 255., 255.],\n",
              "        [255., 255., 255.],\n",
              "        [255., 255., 255.]],\n",
              "\n",
              "       [[255., 255., 255.],\n",
              "        [255., 255., 255.],\n",
              "        [255., 255., 255.],\n",
              "        ...,\n",
              "        [255., 255., 255.],\n",
              "        [255., 255., 255.],\n",
              "        [255., 255., 255.]],\n",
              "\n",
              "       ...,\n",
              "\n",
              "       [[255., 255., 255.],\n",
              "        [255., 255., 255.],\n",
              "        [255., 255., 255.],\n",
              "        ...,\n",
              "        [255., 255., 255.],\n",
              "        [255., 255., 255.],\n",
              "        [255., 255., 255.]],\n",
              "\n",
              "       [[255., 255., 255.],\n",
              "        [255., 255., 255.],\n",
              "        [255., 255., 255.],\n",
              "        ...,\n",
              "        [255., 255., 255.],\n",
              "        [255., 255., 255.],\n",
              "        [255., 255., 255.]],\n",
              "\n",
              "       [[255., 255., 255.],\n",
              "        [255., 255., 255.],\n",
              "        [255., 255., 255.],\n",
              "        ...,\n",
              "        [255., 255., 255.],\n",
              "        [255., 255., 255.],\n",
              "        [255., 255., 255.]]], dtype=float32)"
            ]
          },
          "metadata": {},
          "execution_count": 10
        }
      ]
    },
    {
      "cell_type": "code",
      "source": [
        "img_array.shape"
      ],
      "metadata": {
        "colab": {
          "base_uri": "https://localhost:8080/"
        },
        "id": "wMPyEj7n-kkQ",
        "outputId": "fae26efa-6f7e-46e8-897c-f2c9f5b1358d"
      },
      "execution_count": null,
      "outputs": [
        {
          "output_type": "execute_result",
          "data": {
            "text/plain": [
              "(224, 224, 3)"
            ]
          },
          "metadata": {},
          "execution_count": 11
        }
      ]
    },
    {
      "cell_type": "code",
      "source": [
        "import numpy as np\n",
        "expanded_img_array=np.expand_dims(img_array,axis=0)\n",
        "print(expanded_img_array.shape)"
      ],
      "metadata": {
        "colab": {
          "base_uri": "https://localhost:8080/"
        },
        "id": "SmU_scC--odY",
        "outputId": "5c44e09d-cf57-4ee0-8366-553596259cbb"
      },
      "execution_count": null,
      "outputs": [
        {
          "output_type": "stream",
          "name": "stdout",
          "text": [
            "(1, 224, 224, 3)\n"
          ]
        }
      ]
    },
    {
      "cell_type": "code",
      "source": [
        "expanded_img_array"
      ],
      "metadata": {
        "colab": {
          "base_uri": "https://localhost:8080/"
        },
        "id": "hfaEEBt6_nvk",
        "outputId": "fab7762e-1e7d-44e7-c8f1-0b6c5f1de984"
      },
      "execution_count": null,
      "outputs": [
        {
          "output_type": "execute_result",
          "data": {
            "text/plain": [
              "array([[[[255., 255., 255.],\n",
              "         [255., 255., 255.],\n",
              "         [255., 255., 255.],\n",
              "         ...,\n",
              "         [255., 255., 255.],\n",
              "         [255., 255., 255.],\n",
              "         [255., 255., 255.]],\n",
              "\n",
              "        [[255., 255., 255.],\n",
              "         [255., 255., 255.],\n",
              "         [255., 255., 255.],\n",
              "         ...,\n",
              "         [255., 255., 255.],\n",
              "         [255., 255., 255.],\n",
              "         [255., 255., 255.]],\n",
              "\n",
              "        [[255., 255., 255.],\n",
              "         [255., 255., 255.],\n",
              "         [255., 255., 255.],\n",
              "         ...,\n",
              "         [255., 255., 255.],\n",
              "         [255., 255., 255.],\n",
              "         [255., 255., 255.]],\n",
              "\n",
              "        ...,\n",
              "\n",
              "        [[255., 255., 255.],\n",
              "         [255., 255., 255.],\n",
              "         [255., 255., 255.],\n",
              "         ...,\n",
              "         [255., 255., 255.],\n",
              "         [255., 255., 255.],\n",
              "         [255., 255., 255.]],\n",
              "\n",
              "        [[255., 255., 255.],\n",
              "         [255., 255., 255.],\n",
              "         [255., 255., 255.],\n",
              "         ...,\n",
              "         [255., 255., 255.],\n",
              "         [255., 255., 255.],\n",
              "         [255., 255., 255.]],\n",
              "\n",
              "        [[255., 255., 255.],\n",
              "         [255., 255., 255.],\n",
              "         [255., 255., 255.],\n",
              "         ...,\n",
              "         [255., 255., 255.],\n",
              "         [255., 255., 255.],\n",
              "         [255., 255., 255.]]]], dtype=float32)"
            ]
          },
          "metadata": {},
          "execution_count": 14
        }
      ]
    },
    {
      "cell_type": "code",
      "source": [
        "from tensorflow.keras.applications.resnet50 import ResNet50,preprocess_input"
      ],
      "metadata": {
        "id": "fUDieuZ-_qx5"
      },
      "execution_count": null,
      "outputs": []
    },
    {
      "cell_type": "code",
      "source": [
        "import tensorflow\n",
        "from tensorflow.keras.preprocessing import image\n",
        "from tensorflow.keras.layers import GlobalMaxPooling2D"
      ],
      "metadata": {
        "id": "z2Agq0lIADMA"
      },
      "execution_count": null,
      "outputs": []
    },
    {
      "cell_type": "code",
      "source": [
        "model = ResNet50(weights='imagenet',include_top=False,input_shape=(224,224,3))\n",
        "model.trainable = False\n",
        "\n",
        "model = tensorflow.keras.Sequential([\n",
        "    model,\n",
        "    GlobalMaxPooling2D()\n",
        "])"
      ],
      "metadata": {
        "id": "3-UgwwkVAICI"
      },
      "execution_count": null,
      "outputs": []
    },
    {
      "cell_type": "code",
      "source": [
        "preprocessed_img=preprocess_input(expanded_img_array)\n",
        "print(preprocessed_img.shape)\n",
        "preprocessed_img"
      ],
      "metadata": {
        "colab": {
          "base_uri": "https://localhost:8080/"
        },
        "id": "fGP3dljFARVR",
        "outputId": "dc5b576c-55bf-49e1-b3e8-e85175a5c841"
      },
      "execution_count": null,
      "outputs": [
        {
          "output_type": "stream",
          "name": "stdout",
          "text": [
            "(1, 224, 224, 3)\n"
          ]
        },
        {
          "output_type": "execute_result",
          "data": {
            "text/plain": [
              "array([[[[47.122   , 21.442009,  7.640007],\n",
              "         [47.122   , 21.442009,  7.640007],\n",
              "         [47.122   , 21.442009,  7.640007],\n",
              "         ...,\n",
              "         [47.122   , 21.442009,  7.640007],\n",
              "         [47.122   , 21.442009,  7.640007],\n",
              "         [47.122   , 21.442009,  7.640007]],\n",
              "\n",
              "        [[47.122   , 21.442009,  7.640007],\n",
              "         [47.122   , 21.442009,  7.640007],\n",
              "         [47.122   , 21.442009,  7.640007],\n",
              "         ...,\n",
              "         [47.122   , 21.442009,  7.640007],\n",
              "         [47.122   , 21.442009,  7.640007],\n",
              "         [47.122   , 21.442009,  7.640007]],\n",
              "\n",
              "        [[47.122   , 21.442009,  7.640007],\n",
              "         [47.122   , 21.442009,  7.640007],\n",
              "         [47.122   , 21.442009,  7.640007],\n",
              "         ...,\n",
              "         [47.122   , 21.442009,  7.640007],\n",
              "         [47.122   , 21.442009,  7.640007],\n",
              "         [47.122   , 21.442009,  7.640007]],\n",
              "\n",
              "        ...,\n",
              "\n",
              "        [[47.122   , 21.442009,  7.640007],\n",
              "         [47.122   , 21.442009,  7.640007],\n",
              "         [47.122   , 21.442009,  7.640007],\n",
              "         ...,\n",
              "         [47.122   , 21.442009,  7.640007],\n",
              "         [47.122   , 21.442009,  7.640007],\n",
              "         [47.122   , 21.442009,  7.640007]],\n",
              "\n",
              "        [[47.122   , 21.442009,  7.640007],\n",
              "         [47.122   , 21.442009,  7.640007],\n",
              "         [47.122   , 21.442009,  7.640007],\n",
              "         ...,\n",
              "         [47.122   , 21.442009,  7.640007],\n",
              "         [47.122   , 21.442009,  7.640007],\n",
              "         [47.122   , 21.442009,  7.640007]],\n",
              "\n",
              "        [[47.122   , 21.442009,  7.640007],\n",
              "         [47.122   , 21.442009,  7.640007],\n",
              "         [47.122   , 21.442009,  7.640007],\n",
              "         ...,\n",
              "         [47.122   , 21.442009,  7.640007],\n",
              "         [47.122   , 21.442009,  7.640007],\n",
              "         [47.122   , 21.442009,  7.640007]]]], dtype=float32)"
            ]
          },
          "metadata": {},
          "execution_count": 29
        }
      ]
    },
    {
      "cell_type": "code",
      "source": [
        "model.predict(preprocessed_img)"
      ],
      "metadata": {
        "colab": {
          "base_uri": "https://localhost:8080/"
        },
        "id": "Ajl-hl_FAbH5",
        "outputId": "626e1a43-c5a4-43ba-d9d1-c9742b51d175"
      },
      "execution_count": null,
      "outputs": [
        {
          "output_type": "stream",
          "name": "stdout",
          "text": [
            "\u001b[1m1/1\u001b[0m \u001b[32m━━━━━━━━━━━━━━━━━━━━\u001b[0m\u001b[37m\u001b[0m \u001b[1m0s\u001b[0m 323ms/step\n"
          ]
        },
        {
          "output_type": "execute_result",
          "data": {
            "text/plain": [
              "array([[ 0.        , 11.603235  ,  0.31419814, ...,  4.6112747 ,\n",
              "         0.        , 17.991728  ]], dtype=float32)"
            ]
          },
          "metadata": {},
          "execution_count": 30
        }
      ]
    },
    {
      "cell_type": "code",
      "source": [
        "model.predict(preprocessed_img).shape"
      ],
      "metadata": {
        "colab": {
          "base_uri": "https://localhost:8080/"
        },
        "id": "7PjKaSJFAr3B",
        "outputId": "9a233ce4-c5e0-4f9f-c2d6-56c2ff0cf352"
      },
      "execution_count": null,
      "outputs": [
        {
          "output_type": "stream",
          "name": "stdout",
          "text": [
            "\u001b[1m1/1\u001b[0m \u001b[32m━━━━━━━━━━━━━━━━━━━━\u001b[0m\u001b[37m\u001b[0m \u001b[1m0s\u001b[0m 193ms/step\n"
          ]
        },
        {
          "output_type": "execute_result",
          "data": {
            "text/plain": [
              "(1, 2048)"
            ]
          },
          "metadata": {},
          "execution_count": 32
        }
      ]
    },
    {
      "cell_type": "code",
      "source": [
        "model.predict(preprocessed_img).flatten().shape"
      ],
      "metadata": {
        "colab": {
          "base_uri": "https://localhost:8080/"
        },
        "id": "hGNMMlycA072",
        "outputId": "2a8d3266-59a7-468f-f3e9-b3d7086d735a"
      },
      "execution_count": null,
      "outputs": [
        {
          "output_type": "stream",
          "name": "stdout",
          "text": [
            "\u001b[1m1/1\u001b[0m \u001b[32m━━━━━━━━━━━━━━━━━━━━\u001b[0m\u001b[37m\u001b[0m \u001b[1m0s\u001b[0m 310ms/step\n"
          ]
        },
        {
          "output_type": "execute_result",
          "data": {
            "text/plain": [
              "(2048,)"
            ]
          },
          "metadata": {},
          "execution_count": 35
        }
      ]
    },
    {
      "cell_type": "code",
      "source": [
        "model.predict(preprocessed_img)"
      ],
      "metadata": {
        "colab": {
          "base_uri": "https://localhost:8080/"
        },
        "id": "tqj3KJHWBOTX",
        "outputId": "79700700-8897-4621-d767-daddc9573c9c"
      },
      "execution_count": null,
      "outputs": [
        {
          "output_type": "stream",
          "name": "stdout",
          "text": [
            "\u001b[1m1/1\u001b[0m \u001b[32m━━━━━━━━━━━━━━━━━━━━\u001b[0m\u001b[37m\u001b[0m \u001b[1m0s\u001b[0m 180ms/step\n"
          ]
        },
        {
          "output_type": "execute_result",
          "data": {
            "text/plain": [
              "array([[ 0.        , 11.603235  ,  0.31419814, ...,  4.6112747 ,\n",
              "         0.        , 17.991728  ]], dtype=float32)"
            ]
          },
          "metadata": {},
          "execution_count": 36
        }
      ]
    },
    {
      "cell_type": "code",
      "source": [
        "import numpy as np\n",
        "\n",
        "# Assuming preprocessed_img is the input image you want to predict on\n",
        "predictions = model.predict(preprocessed_img).flatten()\n",
        "normalized_predictions = predictions / np.linalg.norm(predictions)\n",
        "\n",
        "\n"
      ],
      "metadata": {
        "colab": {
          "base_uri": "https://localhost:8080/"
        },
        "id": "OztJF4-nCfIO",
        "outputId": "6ba77e5e-3111-44e6-c56c-84ad924cf2b4"
      },
      "execution_count": null,
      "outputs": [
        {
          "output_type": "stream",
          "name": "stdout",
          "text": [
            "\u001b[1m1/1\u001b[0m \u001b[32m━━━━━━━━━━━━━━━━━━━━\u001b[0m\u001b[37m\u001b[0m \u001b[1m0s\u001b[0m 206ms/step\n"
          ]
        }
      ]
    },
    {
      "cell_type": "code",
      "source": [
        "import numpy as np\n",
        "\n",
        "# Make sure to import numpy if you haven't already\n",
        "model.predict(preprocessed_img).flatten() / np.linalg.norm(model.predict(preprocessed_img).flatten())\n"
      ],
      "metadata": {
        "colab": {
          "base_uri": "https://localhost:8080/"
        },
        "id": "q5BGeNEwCpq7",
        "outputId": "1fc0667e-6d6b-4db3-bea7-983035661c85"
      },
      "execution_count": 42,
      "outputs": [
        {
          "output_type": "stream",
          "name": "stdout",
          "text": [
            "\u001b[1m1/1\u001b[0m \u001b[32m━━━━━━━━━━━━━━━━━━━━\u001b[0m\u001b[37m\u001b[0m \u001b[1m0s\u001b[0m 202ms/step\n",
            "\u001b[1m1/1\u001b[0m \u001b[32m━━━━━━━━━━━━━━━━━━━━\u001b[0m\u001b[37m\u001b[0m \u001b[1m0s\u001b[0m 184ms/step\n"
          ]
        },
        {
          "output_type": "execute_result",
          "data": {
            "text/plain": [
              "array([0.        , 0.04111336, 0.00111329, ..., 0.01633898, 0.        ,\n",
              "       0.06374949], dtype=float32)"
            ]
          },
          "metadata": {},
          "execution_count": 42
        }
      ]
    },
    {
      "cell_type": "code",
      "source": [
        "from numpy .linalg import norm\n",
        "norm(model.predict(preprocessed_img).flatten())"
      ],
      "metadata": {
        "id": "lPMilHs4CqNf",
        "colab": {
          "base_uri": "https://localhost:8080/"
        },
        "outputId": "5f4db9bf-e43a-4630-b929-aa8f7f08dba8"
      },
      "execution_count": 43,
      "outputs": [
        {
          "output_type": "stream",
          "name": "stdout",
          "text": [
            "\u001b[1m1/1\u001b[0m \u001b[32m━━━━━━━━━━━━━━━━━━━━\u001b[0m\u001b[37m\u001b[0m \u001b[1m0s\u001b[0m 210ms/step\n"
          ]
        },
        {
          "output_type": "execute_result",
          "data": {
            "text/plain": [
              "282.22543"
            ]
          },
          "metadata": {},
          "execution_count": 43
        }
      ]
    },
    {
      "cell_type": "code",
      "source": [
        "np.sqrt(np.dot (model.predict(preprocessed_img).flatten(),model.predict(preprocessed_img).flatten()))"
      ],
      "metadata": {
        "colab": {
          "base_uri": "https://localhost:8080/"
        },
        "id": "dDPJlNkZEm4i",
        "outputId": "2c2b730a-3eea-4d1c-f090-17ca5d1b0274"
      },
      "execution_count": 44,
      "outputs": [
        {
          "output_type": "stream",
          "name": "stdout",
          "text": [
            "\u001b[1m1/1\u001b[0m \u001b[32m━━━━━━━━━━━━━━━━━━━━\u001b[0m\u001b[37m\u001b[0m \u001b[1m0s\u001b[0m 210ms/step\n",
            "\u001b[1m1/1\u001b[0m \u001b[32m━━━━━━━━━━━━━━━━━━━━\u001b[0m\u001b[37m\u001b[0m \u001b[1m0s\u001b[0m 190ms/step\n"
          ]
        },
        {
          "output_type": "execute_result",
          "data": {
            "text/plain": [
              "282.22543"
            ]
          },
          "metadata": {},
          "execution_count": 44
        }
      ]
    },
    {
      "cell_type": "code",
      "source": [],
      "metadata": {
        "id": "Ngthl5YaEyvC"
      },
      "execution_count": null,
      "outputs": []
    }
  ]
}